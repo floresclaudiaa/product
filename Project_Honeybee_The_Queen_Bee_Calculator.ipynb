{
  "nbformat": 4,
  "nbformat_minor": 0,
  "metadata": {
    "colab": {
      "provenance": []
    },
    "kernelspec": {
      "name": "python3",
      "display_name": "Python 3"
    },
    "language_info": {
      "name": "python"
    },
    "widgets": {
      "application/vnd.jupyter.widget-state+json": {
        "1dd62189267a43cc950614ec04816a16": {
          "model_module": "@jupyter-widgets/controls",
          "model_name": "HTMLModel",
          "model_module_version": "1.5.0",
          "state": {
            "_dom_classes": [],
            "_model_module": "@jupyter-widgets/controls",
            "_model_module_version": "1.5.0",
            "_model_name": "HTMLModel",
            "_view_count": null,
            "_view_module": "@jupyter-widgets/controls",
            "_view_module_version": "1.5.0",
            "_view_name": "HTMLView",
            "description": "",
            "description_tooltip": null,
            "layout": "IPY_MODEL_45a7582c60a24b93beb53d20a5237009",
            "placeholder": "​",
            "style": "IPY_MODEL_6ee7800bd85548b7b48034ddcb031f0a",
            "value": "<h1>Queen Bee Calculator</h1>"
          }
        },
        "45a7582c60a24b93beb53d20a5237009": {
          "model_module": "@jupyter-widgets/base",
          "model_name": "LayoutModel",
          "model_module_version": "1.2.0",
          "state": {
            "_model_module": "@jupyter-widgets/base",
            "_model_module_version": "1.2.0",
            "_model_name": "LayoutModel",
            "_view_count": null,
            "_view_module": "@jupyter-widgets/base",
            "_view_module_version": "1.2.0",
            "_view_name": "LayoutView",
            "align_content": null,
            "align_items": null,
            "align_self": null,
            "border": null,
            "bottom": null,
            "display": null,
            "flex": null,
            "flex_flow": null,
            "grid_area": null,
            "grid_auto_columns": null,
            "grid_auto_flow": null,
            "grid_auto_rows": null,
            "grid_column": null,
            "grid_gap": null,
            "grid_row": null,
            "grid_template_areas": null,
            "grid_template_columns": null,
            "grid_template_rows": null,
            "height": null,
            "justify_content": null,
            "justify_items": null,
            "left": null,
            "margin": null,
            "max_height": null,
            "max_width": null,
            "min_height": null,
            "min_width": null,
            "object_fit": null,
            "object_position": null,
            "order": null,
            "overflow": null,
            "overflow_x": null,
            "overflow_y": null,
            "padding": null,
            "right": null,
            "top": null,
            "visibility": null,
            "width": null
          }
        },
        "6ee7800bd85548b7b48034ddcb031f0a": {
          "model_module": "@jupyter-widgets/controls",
          "model_name": "DescriptionStyleModel",
          "model_module_version": "1.5.0",
          "state": {
            "_model_module": "@jupyter-widgets/controls",
            "_model_module_version": "1.5.0",
            "_model_name": "DescriptionStyleModel",
            "_view_count": null,
            "_view_module": "@jupyter-widgets/base",
            "_view_module_version": "1.2.0",
            "_view_name": "StyleView",
            "description_width": ""
          }
        },
        "6674713f085348a88eb4bfc12db94f29": {
          "model_module": "@jupyter-widgets/controls",
          "model_name": "TextModel",
          "model_module_version": "1.5.0",
          "state": {
            "_dom_classes": [],
            "_model_module": "@jupyter-widgets/controls",
            "_model_module_version": "1.5.0",
            "_model_name": "TextModel",
            "_view_count": null,
            "_view_module": "@jupyter-widgets/controls",
            "_view_module_version": "1.5.0",
            "_view_name": "TextView",
            "continuous_update": true,
            "description": "Yearly Salary:",
            "description_tooltip": null,
            "disabled": false,
            "layout": "IPY_MODEL_b37f23ac009d43338198a3283f65f9e8",
            "placeholder": "Enter your yearly salary",
            "style": "IPY_MODEL_7eebbd3dccc64d91abff8419f7252209",
            "value": ""
          }
        },
        "b37f23ac009d43338198a3283f65f9e8": {
          "model_module": "@jupyter-widgets/base",
          "model_name": "LayoutModel",
          "model_module_version": "1.2.0",
          "state": {
            "_model_module": "@jupyter-widgets/base",
            "_model_module_version": "1.2.0",
            "_model_name": "LayoutModel",
            "_view_count": null,
            "_view_module": "@jupyter-widgets/base",
            "_view_module_version": "1.2.0",
            "_view_name": "LayoutView",
            "align_content": null,
            "align_items": null,
            "align_self": null,
            "border": null,
            "bottom": null,
            "display": null,
            "flex": null,
            "flex_flow": null,
            "grid_area": null,
            "grid_auto_columns": null,
            "grid_auto_flow": null,
            "grid_auto_rows": null,
            "grid_column": null,
            "grid_gap": null,
            "grid_row": null,
            "grid_template_areas": null,
            "grid_template_columns": null,
            "grid_template_rows": null,
            "height": null,
            "justify_content": null,
            "justify_items": null,
            "left": null,
            "margin": null,
            "max_height": null,
            "max_width": null,
            "min_height": null,
            "min_width": null,
            "object_fit": null,
            "object_position": null,
            "order": null,
            "overflow": null,
            "overflow_x": null,
            "overflow_y": null,
            "padding": null,
            "right": null,
            "top": null,
            "visibility": null,
            "width": null
          }
        },
        "7eebbd3dccc64d91abff8419f7252209": {
          "model_module": "@jupyter-widgets/controls",
          "model_name": "DescriptionStyleModel",
          "model_module_version": "1.5.0",
          "state": {
            "_model_module": "@jupyter-widgets/controls",
            "_model_module_version": "1.5.0",
            "_model_name": "DescriptionStyleModel",
            "_view_count": null,
            "_view_module": "@jupyter-widgets/base",
            "_view_module_version": "1.2.0",
            "_view_name": "StyleView",
            "description_width": ""
          }
        },
        "b1906d237c4e43019922a2b48fbeaff3": {
          "model_module": "@jupyter-widgets/controls",
          "model_name": "IntTextModel",
          "model_module_version": "1.5.0",
          "state": {
            "_dom_classes": [],
            "_model_module": "@jupyter-widgets/controls",
            "_model_module_version": "1.5.0",
            "_model_name": "IntTextModel",
            "_view_count": null,
            "_view_module": "@jupyter-widgets/controls",
            "_view_module_version": "1.5.0",
            "_view_name": "IntTextView",
            "continuous_update": false,
            "description": "Years of Experience:",
            "description_tooltip": null,
            "disabled": false,
            "layout": "IPY_MODEL_bb4863172e474f6eaa31d58d8c9dc443",
            "step": 1,
            "style": "IPY_MODEL_98b16905a2b749cfaf203289221adba8",
            "value": 0
          }
        },
        "bb4863172e474f6eaa31d58d8c9dc443": {
          "model_module": "@jupyter-widgets/base",
          "model_name": "LayoutModel",
          "model_module_version": "1.2.0",
          "state": {
            "_model_module": "@jupyter-widgets/base",
            "_model_module_version": "1.2.0",
            "_model_name": "LayoutModel",
            "_view_count": null,
            "_view_module": "@jupyter-widgets/base",
            "_view_module_version": "1.2.0",
            "_view_name": "LayoutView",
            "align_content": null,
            "align_items": null,
            "align_self": null,
            "border": null,
            "bottom": null,
            "display": null,
            "flex": null,
            "flex_flow": null,
            "grid_area": null,
            "grid_auto_columns": null,
            "grid_auto_flow": null,
            "grid_auto_rows": null,
            "grid_column": null,
            "grid_gap": null,
            "grid_row": null,
            "grid_template_areas": null,
            "grid_template_columns": null,
            "grid_template_rows": null,
            "height": null,
            "justify_content": null,
            "justify_items": null,
            "left": null,
            "margin": null,
            "max_height": null,
            "max_width": null,
            "min_height": null,
            "min_width": null,
            "object_fit": null,
            "object_position": null,
            "order": null,
            "overflow": null,
            "overflow_x": null,
            "overflow_y": null,
            "padding": null,
            "right": null,
            "top": null,
            "visibility": null,
            "width": null
          }
        },
        "98b16905a2b749cfaf203289221adba8": {
          "model_module": "@jupyter-widgets/controls",
          "model_name": "DescriptionStyleModel",
          "model_module_version": "1.5.0",
          "state": {
            "_model_module": "@jupyter-widgets/controls",
            "_model_module_version": "1.5.0",
            "_model_name": "DescriptionStyleModel",
            "_view_count": null,
            "_view_module": "@jupyter-widgets/base",
            "_view_module_version": "1.2.0",
            "_view_name": "StyleView",
            "description_width": ""
          }
        },
        "e1975deb7bb6462f8f2ec3a0c7af95e6": {
          "model_module": "@jupyter-widgets/controls",
          "model_name": "TextModel",
          "model_module_version": "1.5.0",
          "state": {
            "_dom_classes": [],
            "_model_module": "@jupyter-widgets/controls",
            "_model_module_version": "1.5.0",
            "_model_name": "TextModel",
            "_view_count": null,
            "_view_module": "@jupyter-widgets/controls",
            "_view_module_version": "1.5.0",
            "_view_name": "TextView",
            "continuous_update": true,
            "description": "Location:",
            "description_tooltip": null,
            "disabled": false,
            "layout": "IPY_MODEL_f3746be4be9e4f95b2cbc103ca2fae39",
            "placeholder": "Enter your location",
            "style": "IPY_MODEL_265f3528039a4871b87af5f780efb31b",
            "value": ""
          }
        },
        "f3746be4be9e4f95b2cbc103ca2fae39": {
          "model_module": "@jupyter-widgets/base",
          "model_name": "LayoutModel",
          "model_module_version": "1.2.0",
          "state": {
            "_model_module": "@jupyter-widgets/base",
            "_model_module_version": "1.2.0",
            "_model_name": "LayoutModel",
            "_view_count": null,
            "_view_module": "@jupyter-widgets/base",
            "_view_module_version": "1.2.0",
            "_view_name": "LayoutView",
            "align_content": null,
            "align_items": null,
            "align_self": null,
            "border": null,
            "bottom": null,
            "display": null,
            "flex": null,
            "flex_flow": null,
            "grid_area": null,
            "grid_auto_columns": null,
            "grid_auto_flow": null,
            "grid_auto_rows": null,
            "grid_column": null,
            "grid_gap": null,
            "grid_row": null,
            "grid_template_areas": null,
            "grid_template_columns": null,
            "grid_template_rows": null,
            "height": null,
            "justify_content": null,
            "justify_items": null,
            "left": null,
            "margin": null,
            "max_height": null,
            "max_width": null,
            "min_height": null,
            "min_width": null,
            "object_fit": null,
            "object_position": null,
            "order": null,
            "overflow": null,
            "overflow_x": null,
            "overflow_y": null,
            "padding": null,
            "right": null,
            "top": null,
            "visibility": null,
            "width": null
          }
        },
        "265f3528039a4871b87af5f780efb31b": {
          "model_module": "@jupyter-widgets/controls",
          "model_name": "DescriptionStyleModel",
          "model_module_version": "1.5.0",
          "state": {
            "_model_module": "@jupyter-widgets/controls",
            "_model_module_version": "1.5.0",
            "_model_name": "DescriptionStyleModel",
            "_view_count": null,
            "_view_module": "@jupyter-widgets/base",
            "_view_module_version": "1.2.0",
            "_view_name": "StyleView",
            "description_width": ""
          }
        },
        "cbc196cb276f400b8e29d7042e2070b3": {
          "model_module": "@jupyter-widgets/controls",
          "model_name": "TextModel",
          "model_module_version": "1.5.0",
          "state": {
            "_dom_classes": [],
            "_model_module": "@jupyter-widgets/controls",
            "_model_module_version": "1.5.0",
            "_model_name": "TextModel",
            "_view_count": null,
            "_view_module": "@jupyter-widgets/controls",
            "_view_module_version": "1.5.0",
            "_view_name": "TextView",
            "continuous_update": true,
            "description": "Industry:",
            "description_tooltip": null,
            "disabled": false,
            "layout": "IPY_MODEL_5d924acac8b84f3a99cf6720ff7ad55d",
            "placeholder": "Enter your industry",
            "style": "IPY_MODEL_2b502ad014a34742869ad5a01f5f69d9",
            "value": ""
          }
        },
        "5d924acac8b84f3a99cf6720ff7ad55d": {
          "model_module": "@jupyter-widgets/base",
          "model_name": "LayoutModel",
          "model_module_version": "1.2.0",
          "state": {
            "_model_module": "@jupyter-widgets/base",
            "_model_module_version": "1.2.0",
            "_model_name": "LayoutModel",
            "_view_count": null,
            "_view_module": "@jupyter-widgets/base",
            "_view_module_version": "1.2.0",
            "_view_name": "LayoutView",
            "align_content": null,
            "align_items": null,
            "align_self": null,
            "border": null,
            "bottom": null,
            "display": null,
            "flex": null,
            "flex_flow": null,
            "grid_area": null,
            "grid_auto_columns": null,
            "grid_auto_flow": null,
            "grid_auto_rows": null,
            "grid_column": null,
            "grid_gap": null,
            "grid_row": null,
            "grid_template_areas": null,
            "grid_template_columns": null,
            "grid_template_rows": null,
            "height": null,
            "justify_content": null,
            "justify_items": null,
            "left": null,
            "margin": null,
            "max_height": null,
            "max_width": null,
            "min_height": null,
            "min_width": null,
            "object_fit": null,
            "object_position": null,
            "order": null,
            "overflow": null,
            "overflow_x": null,
            "overflow_y": null,
            "padding": null,
            "right": null,
            "top": null,
            "visibility": null,
            "width": null
          }
        },
        "2b502ad014a34742869ad5a01f5f69d9": {
          "model_module": "@jupyter-widgets/controls",
          "model_name": "DescriptionStyleModel",
          "model_module_version": "1.5.0",
          "state": {
            "_model_module": "@jupyter-widgets/controls",
            "_model_module_version": "1.5.0",
            "_model_name": "DescriptionStyleModel",
            "_view_count": null,
            "_view_module": "@jupyter-widgets/base",
            "_view_module_version": "1.2.0",
            "_view_name": "StyleView",
            "description_width": ""
          }
        },
        "418205e5924b4956b771437ba1f8d0dc": {
          "model_module": "@jupyter-widgets/controls",
          "model_name": "ButtonModel",
          "model_module_version": "1.5.0",
          "state": {
            "_dom_classes": [],
            "_model_module": "@jupyter-widgets/controls",
            "_model_module_version": "1.5.0",
            "_model_name": "ButtonModel",
            "_view_count": null,
            "_view_module": "@jupyter-widgets/controls",
            "_view_module_version": "1.5.0",
            "_view_name": "ButtonView",
            "button_style": "",
            "description": "Calculate",
            "disabled": false,
            "icon": "",
            "layout": "IPY_MODEL_f75f35d1aa734390a999f304fa7e0ce6",
            "style": "IPY_MODEL_36d91768ff64488fbee16590b39b225b",
            "tooltip": "Click to calculate"
          }
        },
        "f75f35d1aa734390a999f304fa7e0ce6": {
          "model_module": "@jupyter-widgets/base",
          "model_name": "LayoutModel",
          "model_module_version": "1.2.0",
          "state": {
            "_model_module": "@jupyter-widgets/base",
            "_model_module_version": "1.2.0",
            "_model_name": "LayoutModel",
            "_view_count": null,
            "_view_module": "@jupyter-widgets/base",
            "_view_module_version": "1.2.0",
            "_view_name": "LayoutView",
            "align_content": null,
            "align_items": null,
            "align_self": null,
            "border": null,
            "bottom": null,
            "display": null,
            "flex": null,
            "flex_flow": null,
            "grid_area": null,
            "grid_auto_columns": null,
            "grid_auto_flow": null,
            "grid_auto_rows": null,
            "grid_column": null,
            "grid_gap": null,
            "grid_row": null,
            "grid_template_areas": null,
            "grid_template_columns": null,
            "grid_template_rows": null,
            "height": null,
            "justify_content": null,
            "justify_items": null,
            "left": null,
            "margin": null,
            "max_height": null,
            "max_width": null,
            "min_height": null,
            "min_width": null,
            "object_fit": null,
            "object_position": null,
            "order": null,
            "overflow": null,
            "overflow_x": null,
            "overflow_y": null,
            "padding": null,
            "right": null,
            "top": null,
            "visibility": null,
            "width": null
          }
        },
        "36d91768ff64488fbee16590b39b225b": {
          "model_module": "@jupyter-widgets/controls",
          "model_name": "ButtonStyleModel",
          "model_module_version": "1.5.0",
          "state": {
            "_model_module": "@jupyter-widgets/controls",
            "_model_module_version": "1.5.0",
            "_model_name": "ButtonStyleModel",
            "_view_count": null,
            "_view_module": "@jupyter-widgets/base",
            "_view_module_version": "1.2.0",
            "_view_name": "StyleView",
            "button_color": null,
            "font_weight": ""
          }
        },
        "409e0258b54f4431a3fe8aec011aeb52": {
          "model_module": "@jupyter-widgets/output",
          "model_name": "OutputModel",
          "model_module_version": "1.0.0",
          "state": {
            "_dom_classes": [],
            "_model_module": "@jupyter-widgets/output",
            "_model_module_version": "1.0.0",
            "_model_name": "OutputModel",
            "_view_count": null,
            "_view_module": "@jupyter-widgets/output",
            "_view_module_version": "1.0.0",
            "_view_name": "OutputView",
            "layout": "IPY_MODEL_2be8b7a515f343c2ba6fab99f3e08451",
            "msg_id": "",
            "outputs": []
          }
        },
        "2be8b7a515f343c2ba6fab99f3e08451": {
          "model_module": "@jupyter-widgets/base",
          "model_name": "LayoutModel",
          "model_module_version": "1.2.0",
          "state": {
            "_model_module": "@jupyter-widgets/base",
            "_model_module_version": "1.2.0",
            "_model_name": "LayoutModel",
            "_view_count": null,
            "_view_module": "@jupyter-widgets/base",
            "_view_module_version": "1.2.0",
            "_view_name": "LayoutView",
            "align_content": null,
            "align_items": null,
            "align_self": null,
            "border": null,
            "bottom": null,
            "display": null,
            "flex": null,
            "flex_flow": null,
            "grid_area": null,
            "grid_auto_columns": null,
            "grid_auto_flow": null,
            "grid_auto_rows": null,
            "grid_column": null,
            "grid_gap": null,
            "grid_row": null,
            "grid_template_areas": null,
            "grid_template_columns": null,
            "grid_template_rows": null,
            "height": null,
            "justify_content": null,
            "justify_items": null,
            "left": null,
            "margin": null,
            "max_height": null,
            "max_width": null,
            "min_height": null,
            "min_width": null,
            "object_fit": null,
            "object_position": null,
            "order": null,
            "overflow": null,
            "overflow_x": null,
            "overflow_y": null,
            "padding": null,
            "right": null,
            "top": null,
            "visibility": null,
            "width": null
          }
        }
      }
    }
  },
  "cells": [
    {
      "cell_type": "markdown",
      "source": [
        "# Project Honeybee\n",
        "\n",
        "### Summary\n",
        "After attending the Latinas in Tech Conference in 2024, I was reminded of the Latina wage gap in the U.S. It is significant, with Latinas earning considerably less than non-Hispanic white men. This disparity affects the economic stability of Latina workers and their families. We propose an AI-powered Wage Calculator to provide personalized wage estimates, career advice, and negotiation strategies based on user qualifications, market data, and user data. The goal is to close the wage gap and promote wage equity for Latinas. We want to build a platform where the “cheat codes” that work for latinas by latinas, can be found.\n",
        "\n",
        "\n",
        "### Problem Statement and Opportunity\n",
        "\n",
        "#### Problem Statement\n",
        "- Latinas in the U.S. earn only 55 cents for every dollar earned by white, non-Hispanic men. This results in:\n",
        "- Median annual pay of $36,110 for Latinas, compared to $65,208 for white, non-Hispanic men.\n",
        "- Over $1 million in lost earnings over a 40-year career.\n",
        "- Reduced lifetime earnings, lower retirement savings, and economic insecurity.\n",
        "- Reduced economic activity and GDP growth.\n",
        "\n",
        "#### Opportunity\n",
        "Addressing this gap for latinas offers a chance to:\n",
        "- Empower Latinas with data-driven market worth insights.\n",
        "- Provide actionable, bite-sized salary negotiation advice.\n",
        "- Create a platform where the “cheat codes” that work for latinas by latinas, can be found\n",
        "- Promote wage transparency and equity.\n",
        "- Enhance the economic stability of Latina families and communities.\n",
        "\n",
        "### Economic Impact\n",
        "Closing the Latina wage gap benefits the broader economy:\n",
        "- Higher Consumer Spending: Increased disposable income boosts various economic sectors.\n",
        "- Increased Business Revenue: Higher wages translate to greater purchasing power, increasing sales.\n",
        "- Enhanced Productivity: Equitable pay leads to higher job satisfaction and productivity, reducing turnover and training costs.\n",
        "- Enhanced Professional Development and Growth: Equitable pay and enhanced productivity leads to more effective executive presence, visibility, and promotion.\n",
        "- GDP Growth: Closing the wage gap could add $512.6 billion to the U.S. economy, increasing economic activity and growth.\n",
        "Reduced Poverty Rates: Fair wages lift Latina families out of poverty, reducing social assistance needs and increasing economic contributions through taxes and spending.\n",
        "\n",
        "### Solution\n",
        "The Latina Wage Calculator will provide personalized insights and resources. Key features may include  [Tentative: User Feedback and other data should help guide pivots when needed]:\n",
        "1. Personalized Wage Estimates\n",
        "Data Collection: Gather user information on education, experience, skills, and location.\n",
        "Market Analysis: Analyze job market data for accurate wage estimates.\n",
        "\n",
        "2. Career Advancement Insights\n",
        "Skill Gap Analysis: Identify in-demand skills and suggest relevant courses or certifications.\n",
        "Career Path Guidance: Recommend career advancement opportunities based on current roles and market trends.\n",
        "Provide data-backed Career Playbook guidance: Recommendations based on what works for Latinas. When to develop skills, when to develop personal brand, when to develop executive presence, and when to look for a next play.\n",
        "\n",
        "3. Salary Negotiation Tools\n",
        "Negotiation Strategies: Offer tailored negotiation tips and strategies.\n",
        "Benchmark Comparisons: Provide comparisons with industry standards and similar roles.\n",
        "\n",
        "4. Employer Insights\n",
        "Company Research: Provide insights into company pay practices and cultures.\n",
        "Job Listings: Highlight jobs from companies known for equitable pay practices.\n",
        "\n",
        "5. Community Support\n",
        "Content: Create a platform for users to share experiences and advice in various forms.\n",
        "Networking: This should include access to trusted Mentors that can provide the human, verbal “cheat codes” that you only get when you talk to trusted people in organizations.\n",
        "\n",
        "\n",
        "### Roadmap [Tentative: User Feedback and other data should help guide pivots when needed]\n",
        "#### Phase 1 [MVP] : Research and Development (0-3 months)\n",
        "- Conduct market research on wage disparities.\n",
        "- Develop a hypothesis on customer segments and what their problems are\n",
        "- Interview potential users  to identify a list of problems to be solved by customer segment (Jobs to be done), verify if they are real problems in the market and if they aren’t, what are they?\n",
        "- Identify and write out user journeys for each customer segment\n",
        "- Prototype Development\n",
        "- Develop AI algorithms and data models.\n",
        "- Research to identify the AI algorithms needed: do they exist? How will we train them? Will it change/can we scale?\n",
        "- The data required: do we have the right data?\n",
        "- Create Product Requirement Document with mock screenshots and user-flows\n",
        "- Build initial prototype and conduct user research and testing. [Private Preview to gather feedback]\n",
        "- Build queries to extract: key metrics such as usage stats to understand how the users are using the application and if they are employing work-arounds\n",
        "- Based on the 6 success metrics outlined below, quantify what success in numbers actually looks like\n",
        "- QA Testing plan\n",
        "- Implementation plan\n",
        "- User guide development if any\n",
        "- Launch a beta version of the Latina Wage Calculator.\n",
        "- Collect user feedback and refine the tool and documentation/test plans etc.\n",
        "\n",
        "#### Phase 2: Full Launch (7-12 months)\n",
        "- Implement additional features and enhancements.\n",
        "- Go To Market Plan\n",
        " - Launch marketing campaigns targeting Latinas and allies.\n",
        " - Partner with organizations and influencers.\n",
        " - Expansion Considerations: Market expansion to other underserved populations and an Internationalization plan\n",
        "\n",
        "#### Phase 4: Expansion and Improvement (12+ months)\n",
        "- Continuously update AI models with new data.\n",
        "- Expand features based on user feedback and emerging needs.\n",
        "- Explore partnerships with educational institutions and employers.\n",
        "\n",
        "### Success Metrics\n",
        "- User Engagement: Number of active users and their engagement levels.\n",
        "- Wage Improvement: Reported wage increases by users.\n",
        "- Satisfaction Rate: User satisfaction scores and feedback.\n",
        "- Market Adoption: Adoption rate among target demographics.\n",
        "- Partnerships: Number of partnerships with companies, educational institutions, and advocacy groups.\n",
        "- Social Impact: Impact on the economic well-being of Latinas and their families.\n",
        "\n",
        "By developing and implementing the Latina Wage Calculator, we aim to reduce the wage gap, promote wage equity, and empower Latinas to reach their full economic potential, benefiting individual families and contributing to overall business growth and the national GDP.\n",
        "\n",
        "### Resources\n",
        "- National Women's Law Center. \"The Wage Gap: The Who, How, Why, and What to Do.\"\n",
        "- Institute for Women's Policy Research. \"Status of Women in the States: The - Economic Status of Latinas.\"\n",
        "- McKinsey & Company. \"The Power of Parity: Advancing Women's Equality in the United States.\"\n",
        "- American Association of University Women. \"The Simple Truth about the Gender Pay Gap.\"\n",
        "\n",
        "### Existing Solutions\n",
        "- Levels\n",
        "- Payscale\n",
        "- Fishbowl\n",
        "- Glassdoor\n",
        "- Conversations with your network  / LinkedIn\n"
      ],
      "metadata": {
        "id": "SJ7CUkE07nWc"
      }
    },
    {
      "cell_type": "markdown",
      "source": [
        "## The Queen Bee Calculator Prototype\n",
        "\n",
        "Imagine a world where every woman knows their highest potential workplace earnings. That's the vision behind the Queen Bee Calculator.\n",
        "nderrepresented groups, especially women, have been historically underpaid. Our Queen Bee Calculator is here to change that. With just a few clicks, it transforms your current salary into your 'Queen Bee' potential – the salary you can reach.\n",
        "\n",
        "But we're not just about numbers. We're about empowerment. Our calculator doesn't just show you a figure; it provides actionable advice from successful people like you who've been in your shoes. These 'Queen Bees' share their strategies for negotiation, skill development, and networking.\n",
        "\n",
        "Think of it as your personal career coach and cheerleader, all rolled into one easy-to-use tool. It's not just about closing the wage gap; it's about opening doors to new opportunities and building a community of empowered professionals.\n",
        "The Queen Bee Calculator: Because every person deserves to know their market potential and have the tools to achieve it. Join us in transforming how people approach career growth. Let's turn every worker into a Queen Bee!\n"
      ],
      "metadata": {
        "id": "Lq3VPpcrsEns"
      }
    },
    {
      "cell_type": "code",
      "execution_count": 1,
      "metadata": {
        "id": "VEIiuzpf7mPf",
        "colab": {
          "base_uri": "https://localhost:8080/",
          "height": 226,
          "referenced_widgets": [
            "1dd62189267a43cc950614ec04816a16",
            "45a7582c60a24b93beb53d20a5237009",
            "6ee7800bd85548b7b48034ddcb031f0a",
            "6674713f085348a88eb4bfc12db94f29",
            "b37f23ac009d43338198a3283f65f9e8",
            "7eebbd3dccc64d91abff8419f7252209",
            "b1906d237c4e43019922a2b48fbeaff3",
            "bb4863172e474f6eaa31d58d8c9dc443",
            "98b16905a2b749cfaf203289221adba8",
            "e1975deb7bb6462f8f2ec3a0c7af95e6",
            "f3746be4be9e4f95b2cbc103ca2fae39",
            "265f3528039a4871b87af5f780efb31b",
            "cbc196cb276f400b8e29d7042e2070b3",
            "5d924acac8b84f3a99cf6720ff7ad55d",
            "2b502ad014a34742869ad5a01f5f69d9",
            "418205e5924b4956b771437ba1f8d0dc",
            "f75f35d1aa734390a999f304fa7e0ce6",
            "36d91768ff64488fbee16590b39b225b",
            "409e0258b54f4431a3fe8aec011aeb52",
            "2be8b7a515f343c2ba6fab99f3e08451"
          ]
        },
        "outputId": "76a2fefd-c861-4273-e25f-87952dcf96a8"
      },
      "outputs": [
        {
          "output_type": "display_data",
          "data": {
            "text/plain": [
              "HTML(value='<h1>Queen Bee Calculator</h1>')"
            ],
            "application/vnd.jupyter.widget-view+json": {
              "version_major": 2,
              "version_minor": 0,
              "model_id": "1dd62189267a43cc950614ec04816a16"
            }
          },
          "metadata": {}
        },
        {
          "output_type": "display_data",
          "data": {
            "text/plain": [
              "Text(value='', description='Yearly Salary:', placeholder='Enter your yearly salary')"
            ],
            "application/vnd.jupyter.widget-view+json": {
              "version_major": 2,
              "version_minor": 0,
              "model_id": "6674713f085348a88eb4bfc12db94f29"
            }
          },
          "metadata": {}
        },
        {
          "output_type": "display_data",
          "data": {
            "text/plain": [
              "IntText(value=0, description='Years of Experience:')"
            ],
            "application/vnd.jupyter.widget-view+json": {
              "version_major": 2,
              "version_minor": 0,
              "model_id": "b1906d237c4e43019922a2b48fbeaff3"
            }
          },
          "metadata": {}
        },
        {
          "output_type": "display_data",
          "data": {
            "text/plain": [
              "Text(value='', description='Location:', placeholder='Enter your location')"
            ],
            "application/vnd.jupyter.widget-view+json": {
              "version_major": 2,
              "version_minor": 0,
              "model_id": "e1975deb7bb6462f8f2ec3a0c7af95e6"
            }
          },
          "metadata": {}
        },
        {
          "output_type": "display_data",
          "data": {
            "text/plain": [
              "Text(value='', description='Industry:', placeholder='Enter your industry')"
            ],
            "application/vnd.jupyter.widget-view+json": {
              "version_major": 2,
              "version_minor": 0,
              "model_id": "cbc196cb276f400b8e29d7042e2070b3"
            }
          },
          "metadata": {}
        },
        {
          "output_type": "display_data",
          "data": {
            "text/plain": [
              "Button(description='Calculate', style=ButtonStyle(), tooltip='Click to calculate')"
            ],
            "application/vnd.jupyter.widget-view+json": {
              "version_major": 2,
              "version_minor": 0,
              "model_id": "418205e5924b4956b771437ba1f8d0dc"
            }
          },
          "metadata": {}
        },
        {
          "output_type": "display_data",
          "data": {
            "text/plain": [
              "Output()"
            ],
            "application/vnd.jupyter.widget-view+json": {
              "version_major": 2,
              "version_minor": 0,
              "model_id": "409e0258b54f4431a3fe8aec011aeb52"
            }
          },
          "metadata": {}
        }
      ],
      "source": [
        "# Import necessary Libraries 
import pandas as pd
import ipywidgets as widgets
from IPython.display import display, HTML, clear_output
import requests
import json
from typing import Dict, Optional
import asyncio
import aiohttp
from datetime import datetime

# API Configuration
class SalaryAPIConfig:
    BASE_URL = "https://api.salarydata.example.com/v1"  # Replace with actual API endpoint
    API_KEY = "your_api_key_here"  # Replace with actual API key
    
    @staticmethod
    def get_headers() -> Dict:
        return {
            "Authorization": f"Bearer {SalaryAPIConfig.API_KEY}",
            "Content-Type": "application/json"
        }

class SalaryDataService:
    def __init__(self):
        self.cache = {}
        self.cache_duration = 24 * 60 * 60  # 24 hours in seconds

    async def get_salary_metrics(self, location: str, industry: str, title: str) -> Optional[Dict]:
        """
        Fetch salary metrics from the API with caching
        """
        cache_key = f"{location}:{industry}:{title}"
        
        # Check cache first
        if cache_key in self.cache:
            cached_data = self.cache[cache_key]
            if (datetime.now() - cached_data['timestamp']).total_seconds() < self.cache_duration:
                return cached_data['data']

        try:
            async with aiohttp.ClientSession() as session:
                async with session.get(
                    f"{SalaryAPIConfig.BASE_URL}/salary/metrics",
                    headers=SalaryAPIConfig.get_headers(),
                    params={
                        "location": location,
                        "industry": industry,
                        "title": title
                    }
                ) as response:
                    if response.status == 200:
                        data = await response.json()
                        self.cache[cache_key] = {
                            'data': data,
                            'timestamp': datetime.now()
                        }
                        return data
                    else:
                        print(f"API Error: {response.status}")
                        return None
        except Exception as e:
            print(f"Error fetching salary data: {str(e)}")
            return None

class QueenBeeCalculator:
    def __init__(self):
        self.salary_service = SalaryDataService()
        self.setup_ui()

    def setup_ui(self):
        """Initialize the UI components"""
        self.salary_input = widgets.Text(
            value='',
            placeholder='Enter your yearly salary',
            description='Yearly Salary:',
            disabled=False
        )

        self.title_input = widgets.Text(
            value='',
            placeholder='Enter your job title',
            description='Job Title:',
            disabled=False
        )

        self.experience_input = widgets.IntText(
            value=0,
            description='Years of Experience:',
            disabled=False
        )

        self.location_input = widgets.Text(
            value='',
            placeholder='Enter your location',
            description='Location:',
            disabled=False
        )

        self.industry_input = widgets.Text(
            value='',
            placeholder='Enter your industry',
            description='Industry:',
            disabled=False
        )

        self.calculate_button = widgets.Button(
            description='Calculate',
            disabled=False,
            button_style='', 
            tooltip='Click to calculate'
        )

        self.output = widgets.Output()
        self.calculate_button.on_click(self.on_calculate_button_clicked)

    def calculate_queen_bee_salary(self, current_salary: float, market_data: Dict) -> float:
        """
        Calculate Queen Bee target salary using current salary and market data
        """
        # Get market metrics
        market_median = market_data.get('median_salary', 0)
        market_75th = market_data.get('percentile_75', 0)
        market_90th = market_data.get('percentile_90', 0)
        
        # Calculate base target using the 55 cents to the dollar statistic
        base_target = current_salary / 0.55
        
        # Adjust target based on market data
        if base_target < market_median:
            return market_75th  # Aim for 75th percentile if below median
        elif base_target < market_75th:
            return market_90th  # Aim for 90th percentile if below 75th
        else:
            return max(base_target, market_90th)  # Take the higher of calculated or 90th percentile

    async def get_market_insights(self, market_data: Dict) -> str:
        """Generate market insights based on API data"""
        insights = []
        if market_data.get('trend') == 'up':
            insights.append("Market salaries in your area are trending upward - great time to negotiate!")
        
        if market_data.get('demand_level') == 'high':
            insights.append("High demand for your role - leverage this in negotiations!")
        
        if market_data.get('remote_opportunities_percent', 0) > 50:
            insights.append("Consider remote opportunities for potentially higher compensation.")
            
        return "\n".join(insights)

    async def on_calculate_button_clicked(self, b):
        """Handle the calculate button click event"""
        with self.output:
            clear_output()
            
            try:
                current_salary = float(''.join(c for c in self.salary_input.value if c.isdigit() or c == '.'))
                location = self.location_input.value
                industry = self.industry_input.value
                title = self.title_input.value

                # Fetch market data
                market_data = await self.salary_service.get_salary_metrics(location, industry, title)
                
                if not market_data:
                    raise ValueError("Unable to fetch market data")

                # Calculate Queen Bee salary
                queen_bee_salary = self.calculate_queen_bee_salary(current_salary, market_data)
                
                # Get market insights
                market_insights = await self.get_market_insights(market_data)
                
                # Format output
                html_output = f"""
                <div style='background-color: #f5f5f5; padding: 15px; border-radius: 5px;'>
                    <p style='font-size: 16px;'>Let's get you to Queen Bee at: ${queen_bee_salary:,.2f}</p>
                    <h3>Queen Bees recommend:</h3>
                    <ul>
                        <li>Consider negotiating for a salary closer to ${queen_bee_salary:,.2f}</li>
                        <li>Current market median for your role: ${market_data['median_salary']:,.2f}</li>
                        <li>75th percentile: ${market_data['percentile_75']:,.2f}</li>
                        <li>{market_insights}</li>
                        <li>Network with other Queen Bees in your field for support and advice</li>
                    </ul>
                </div>
                """
                display(HTML(html_output))
                
            except ValueError as e:
                print(f"Error: {str(e)}")
                print("Please enter valid input values.")

    def display(self):
        """Display the calculator interface"""
        display(widgets.HTML("<h1>Queen Bee Calculator</h1>"))
        display(self.salary_input)
        display(self.title_input)
        display(self.experience_input)
        display(self.location_input)
        display(self.industry_input)
        display(self.calculate_button)
        display(self.output)

# Initialize and display the calculator
calculator = QueenBeeCalculator()
calculator.display()"
      ]
    },
    {
      "cell_type": "code",
      "source": [],
      "metadata": {
        "id": "JzY02H6Xrw-A"
      },
      "execution_count": null,
      "outputs": []
    }
  ]
}
